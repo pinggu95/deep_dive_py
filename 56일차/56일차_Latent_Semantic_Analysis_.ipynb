{
  "nbformat": 4,
  "nbformat_minor": 0,
  "metadata": {
    "colab": {
      "provenance": [],
      "toc_visible": true,
      "include_colab_link": true
    },
    "kernelspec": {
      "name": "python3",
      "display_name": "Python 3"
    },
    "language_info": {
      "name": "python"
    }
  },
  "cells": [
    {
      "cell_type": "markdown",
      "metadata": {
        "id": "view-in-github",
        "colab_type": "text"
      },
      "source": [
        "<a href=\"https://colab.research.google.com/github/pinggu95/deep_dive_py/blob/main/56%EC%9D%BC%EC%B0%A8/56%EC%9D%BC%EC%B0%A8_Latent_Semantic_Analysis_.ipynb\" target=\"_parent\"><img src=\"https://colab.research.google.com/assets/colab-badge.svg\" alt=\"Open In Colab\"/></a>"
      ]
    },
    {
      "cell_type": "code",
      "source": [
        "import numpy as np"
      ],
      "metadata": {
        "id": "Xytj96fLwRfh"
      },
      "execution_count": null,
      "outputs": []
    },
    {
      "cell_type": "markdown",
      "source": [
        "# full SVD"
      ],
      "metadata": {
        "id": "zSN1SHExxnW6"
      }
    },
    {
      "cell_type": "code",
      "source": [
        "A = np.array([[0,0,0,1,0,1,1,0,0],[0,0,0,1,1,0,1,0,0],[0,1,1,0,2,0,0,0,0],[1,0,0,0,0,0,0,1,1]])\n",
        "print('DTM의 크기(shape) :', np.shape(A))"
      ],
      "metadata": {
        "colab": {
          "base_uri": "https://localhost:8080/"
        },
        "id": "nN19pn6twfWK",
        "outputId": "2e265750-2e6c-425c-c5ca-a2bd58501bc0"
      },
      "execution_count": null,
      "outputs": [
        {
          "output_type": "stream",
          "name": "stdout",
          "text": [
            "DTM의 크기(shape) : (4, 9)\n"
          ]
        }
      ]
    },
    {
      "cell_type": "code",
      "source": [
        "U, s, VT = np.linalg.svd(A, full_matrices = True)\n",
        "print('행렬 U :')\n",
        "print(U.round(2))\n",
        "print('행렬 U의 크기(shape) :',np.shape(U))"
      ],
      "metadata": {
        "colab": {
          "base_uri": "https://localhost:8080/"
        },
        "id": "92I173QFwhkG",
        "outputId": "3aa1291b-605f-4f84-c9d9-b154ed95fdab"
      },
      "execution_count": null,
      "outputs": [
        {
          "output_type": "stream",
          "name": "stdout",
          "text": [
            "행렬 U :\n",
            "[[-0.24  0.75  0.   -0.62]\n",
            " [-0.51  0.44 -0.    0.74]\n",
            " [-0.83 -0.49 -0.   -0.27]\n",
            " [-0.   -0.    1.    0.  ]]\n",
            "행렬 U의 크기(shape) : (4, 4)\n"
          ]
        }
      ]
    },
    {
      "cell_type": "code",
      "source": [
        "print('특이값 벡터 :')\n",
        "print(s.round(2))\n",
        "print('특이값 벡터의 크기(shape) :',np.shape(s))"
      ],
      "metadata": {
        "colab": {
          "base_uri": "https://localhost:8080/"
        },
        "id": "BywiZbY0wzAF",
        "outputId": "efcdddc5-bc3a-4e64-b343-9fb3228380fe"
      },
      "execution_count": null,
      "outputs": [
        {
          "output_type": "stream",
          "name": "stdout",
          "text": [
            "특이값 벡터 :\n",
            "[2.69 2.05 1.73 0.77]\n",
            "특이값 벡터의 크기(shape) : (4,)\n"
          ]
        }
      ]
    },
    {
      "cell_type": "code",
      "source": [
        "# 대각 행렬의 크기인 4 x 9의 임의의 행렬 생성\n",
        "S = np.zeros((4, 9))\n",
        "\n",
        "# 특이값을 대각행렬에 삽입\n",
        "S[:4, :4] = np.diag(s)\n",
        "\n",
        "print('대각 행렬 S :')\n",
        "print(S.round(2))\n",
        "\n",
        "print('대각 행렬의 크기(shape) :')\n",
        "print(np.shape(S))"
      ],
      "metadata": {
        "colab": {
          "base_uri": "https://localhost:8080/"
        },
        "id": "2OfXFYU8w8T7",
        "outputId": "18cddd4a-7353-4a8e-ac03-00de4b5e563f"
      },
      "execution_count": null,
      "outputs": [
        {
          "output_type": "stream",
          "name": "stdout",
          "text": [
            "대각 행렬 S :\n",
            "[[2.69 0.   0.   0.   0.   0.   0.   0.   0.  ]\n",
            " [0.   2.05 0.   0.   0.   0.   0.   0.   0.  ]\n",
            " [0.   0.   1.73 0.   0.   0.   0.   0.   0.  ]\n",
            " [0.   0.   0.   0.77 0.   0.   0.   0.   0.  ]]\n",
            "대각 행렬의 크기(shape) :\n",
            "(4, 9)\n"
          ]
        }
      ]
    },
    {
      "cell_type": "code",
      "source": [
        "print('직교행렬 VT :')\n",
        "print(VT.round(2))\n",
        "\n",
        "print('직교 행렬 VT의 크기(shape) :')\n",
        "print(np.shape(VT))"
      ],
      "metadata": {
        "colab": {
          "base_uri": "https://localhost:8080/"
        },
        "id": "IQuIYmtZxLbu",
        "outputId": "7a1b496c-d50b-4dbc-c36c-679548de3af4"
      },
      "execution_count": null,
      "outputs": [
        {
          "output_type": "stream",
          "name": "stdout",
          "text": [
            "직교행렬 VT :\n",
            "[[-0.   -0.31 -0.31 -0.28 -0.8  -0.09 -0.28 -0.   -0.  ]\n",
            " [ 0.   -0.24 -0.24  0.58 -0.26  0.37  0.58 -0.   -0.  ]\n",
            " [ 0.58 -0.    0.    0.   -0.    0.   -0.    0.58  0.58]\n",
            " [ 0.   -0.35 -0.35  0.16  0.25 -0.8   0.16 -0.   -0.  ]\n",
            " [-0.   -0.78 -0.01 -0.2   0.4   0.4  -0.2   0.    0.  ]\n",
            " [-0.29  0.31 -0.78 -0.24  0.23  0.23  0.01  0.14  0.14]\n",
            " [-0.29 -0.1   0.26 -0.59 -0.08 -0.08  0.66  0.14  0.14]\n",
            " [-0.5  -0.06  0.15  0.24 -0.05 -0.05 -0.19  0.75 -0.25]\n",
            " [-0.5  -0.06  0.15  0.24 -0.05 -0.05 -0.19 -0.25  0.75]]\n",
            "직교 행렬 VT의 크기(shape) :\n",
            "(9, 9)\n"
          ]
        }
      ]
    },
    {
      "cell_type": "markdown",
      "source": [
        "A = U × S × VT"
      ],
      "metadata": {
        "id": "WF4CWq-BxbOH"
      }
    },
    {
      "cell_type": "code",
      "source": [
        "# same?\n",
        "np.allclose(A, np.dot(np.dot(U,S), VT).round(2))"
      ],
      "metadata": {
        "colab": {
          "base_uri": "https://localhost:8080/"
        },
        "id": "0qBdcp67xeRw",
        "outputId": "72e3251b-862f-41da-993d-5ed18bd399ea"
      },
      "execution_count": null,
      "outputs": [
        {
          "output_type": "execute_result",
          "data": {
            "text/plain": [
              "True"
            ]
          },
          "metadata": {},
          "execution_count": 7
        }
      ]
    },
    {
      "cell_type": "markdown",
      "source": [
        "# 절단된 SVD(Truncated SVD)"
      ],
      "metadata": {
        "id": "D4RNGgyGzJxm"
      }
    },
    {
      "cell_type": "code",
      "source": [
        "# 특이값 사위 2개만 보존\n",
        "S = S[:2,:2]\n",
        "\n",
        "print('대각 행렬 S :')\n",
        "print(S.round(2))"
      ],
      "metadata": {
        "colab": {
          "base_uri": "https://localhost:8080/"
        },
        "id": "9vJc0tV4yg7U",
        "outputId": "460b6196-182a-469f-8bc5-d419cf48678f"
      },
      "execution_count": null,
      "outputs": [
        {
          "output_type": "stream",
          "name": "stdout",
          "text": [
            "대각 행렬 S :\n",
            "[[2.69 0.  ]\n",
            " [0.   2.05]]\n"
          ]
        }
      ]
    },
    {
      "cell_type": "code",
      "source": [
        "U = U[:,:2]\n",
        "print('행렬 U :')\n",
        "print(U.round(2))"
      ],
      "metadata": {
        "colab": {
          "base_uri": "https://localhost:8080/"
        },
        "id": "mIbYeOM1ym6J",
        "outputId": "31ef6c98-2516-4719-9445-1a20076cef11"
      },
      "execution_count": null,
      "outputs": [
        {
          "output_type": "stream",
          "name": "stdout",
          "text": [
            "행렬 U :\n",
            "[[-0.24  0.75]\n",
            " [-0.51  0.44]\n",
            " [-0.83 -0.49]\n",
            " [-0.   -0.  ]]\n"
          ]
        }
      ]
    },
    {
      "cell_type": "code",
      "source": [
        "VT = VT[:2,:]\n",
        "print('직교행렬 VT :')\n",
        "print(VT.round(2))"
      ],
      "metadata": {
        "colab": {
          "base_uri": "https://localhost:8080/"
        },
        "id": "8R8yr-Mwy57W",
        "outputId": "c1d8597a-3e25-4a67-f3bb-f8fd1b8d9b91"
      },
      "execution_count": null,
      "outputs": [
        {
          "output_type": "stream",
          "name": "stdout",
          "text": [
            "직교행렬 VT :\n",
            "[[-0.   -0.31 -0.31 -0.28 -0.8  -0.09 -0.28 -0.   -0.  ]\n",
            " [ 0.   -0.24 -0.24  0.58 -0.26  0.37  0.58 -0.   -0.  ]]\n"
          ]
        }
      ]
    },
    {
      "cell_type": "code",
      "source": [
        "A_prime = np.dot(np.dot(U,S), VT)\n",
        "print(A)\n",
        "print(A_prime.round(2))"
      ],
      "metadata": {
        "colab": {
          "base_uri": "https://localhost:8080/"
        },
        "id": "7g5FevIBzBzj",
        "outputId": "6301f094-627f-45b0-ece8-f7da2a3632aa"
      },
      "execution_count": null,
      "outputs": [
        {
          "output_type": "stream",
          "name": "stdout",
          "text": [
            "[[0 0 0 1 0 1 1 0 0]\n",
            " [0 0 0 1 1 0 1 0 0]\n",
            " [0 1 1 0 2 0 0 0 0]\n",
            " [1 0 0 0 0 0 0 1 1]]\n",
            "[[ 0.   -0.17 -0.17  1.08  0.12  0.62  1.08 -0.   -0.  ]\n",
            " [ 0.    0.2   0.2   0.91  0.86  0.45  0.91  0.    0.  ]\n",
            " [ 0.    0.93  0.93  0.03  2.05 -0.17  0.03  0.    0.  ]\n",
            " [ 0.    0.    0.    0.    0.    0.    0.    0.    0.  ]]\n"
          ]
        }
      ]
    },
    {
      "cell_type": "markdown",
      "source": [
        "# 실습"
      ],
      "metadata": {
        "id": "Fv9UTJa0LXYF"
      }
    },
    {
      "cell_type": "code",
      "source": [
        "import pandas as pd\n",
        "from sklearn.datasets import fetch_20newsgroups\n",
        "import nltk\n",
        "from nltk.corpus import stopwords\n",
        "from sklearn.feature_extraction.text import TfidfVectorizer\n",
        "from sklearn.decomposition import TruncatedSVD"
      ],
      "metadata": {
        "id": "edeoAy-VLu-J"
      },
      "execution_count": null,
      "outputs": []
    },
    {
      "cell_type": "code",
      "source": [
        "nltk.download('stopwords')"
      ],
      "metadata": {
        "colab": {
          "base_uri": "https://localhost:8080/"
        },
        "id": "UIgrkR9zLzx0",
        "outputId": "c749ed42-e141-401a-d1de-b4e6469a4606"
      },
      "execution_count": null,
      "outputs": [
        {
          "output_type": "stream",
          "name": "stderr",
          "text": [
            "[nltk_data] Downloading package stopwords to /root/nltk_data...\n",
            "[nltk_data]   Unzipping corpora/stopwords.zip.\n"
          ]
        },
        {
          "output_type": "execute_result",
          "data": {
            "text/plain": [
              "True"
            ]
          },
          "metadata": {},
          "execution_count": 13
        }
      ]
    },
    {
      "cell_type": "code",
      "source": [
        "dataset = fetch_20newsgroups(shuffle=True, random_state=1, remove=('headers', 'footers', 'quotes'))\n",
        "documents = dataset.data\n",
        "print('샘플의 수 :',len(documents))"
      ],
      "metadata": {
        "colab": {
          "base_uri": "https://localhost:8080/"
        },
        "id": "f3FBUk34LM7C",
        "outputId": "303c28f6-e922-4fc4-b891-229a62006632"
      },
      "execution_count": null,
      "outputs": [
        {
          "output_type": "stream",
          "name": "stdout",
          "text": [
            "샘플의 수 : 11314\n"
          ]
        }
      ]
    },
    {
      "cell_type": "code",
      "source": [
        "documents[1]"
      ],
      "metadata": {
        "colab": {
          "base_uri": "https://localhost:8080/",
          "height": 72
        },
        "id": "iiYXYQ3OLdOS",
        "outputId": "4a129611-b12a-4d06-c8ac-86299db9540e"
      },
      "execution_count": null,
      "outputs": [
        {
          "output_type": "execute_result",
          "data": {
            "text/plain": [
              "\"\\n\\n\\n\\n\\n\\n\\nYeah, do you expect people to read the FAQ, etc. and actually accept hard\\natheism?  No, you need a little leap of faith, Jimmy.  Your logic runs out\\nof steam!\\n\\n\\n\\n\\n\\n\\n\\nJim,\\n\\nSorry I can't pity you, Jim.  And I'm sorry that you have these feelings of\\ndenial about the faith you need to get by.  Oh well, just pretend that it will\\nall end happily ever after anyway.  Maybe if you start a new newsgroup,\\nalt.atheist.hard, you won't be bummin' so much?\\n\\n\\n\\n\\n\\n\\nBye-Bye, Big Jim.  Don't forget your Flintstone's Chewables!  :) \\n--\\nBake Timmons, III\""
            ],
            "application/vnd.google.colaboratory.intrinsic+json": {
              "type": "string"
            }
          },
          "metadata": {},
          "execution_count": 15
        }
      ]
    },
    {
      "cell_type": "code",
      "source": [
        "print(dataset.target_names)"
      ],
      "metadata": {
        "colab": {
          "base_uri": "https://localhost:8080/"
        },
        "id": "xpneu0C5LlqM",
        "outputId": "ae048c3c-7715-49ef-9eb3-44aff472fb31"
      },
      "execution_count": null,
      "outputs": [
        {
          "output_type": "stream",
          "name": "stdout",
          "text": [
            "['alt.atheism', 'comp.graphics', 'comp.os.ms-windows.misc', 'comp.sys.ibm.pc.hardware', 'comp.sys.mac.hardware', 'comp.windows.x', 'misc.forsale', 'rec.autos', 'rec.motorcycles', 'rec.sport.baseball', 'rec.sport.hockey', 'sci.crypt', 'sci.electronics', 'sci.med', 'sci.space', 'soc.religion.christian', 'talk.politics.guns', 'talk.politics.mideast', 'talk.politics.misc', 'talk.religion.misc']\n"
          ]
        }
      ]
    },
    {
      "cell_type": "code",
      "source": [
        "news_df = pd.DataFrame({'document':documents})\n",
        "# 특수 문자 제거\n",
        "news_df['clean_doc'] = news_df['document'].str.replace(\"[^a-zA-Z]\", \" \")\n",
        "# 길이가 3이하인 단어는 제거 (길이가 짧은 단어 제거)\n",
        "news_df['clean_doc'] = news_df['clean_doc'].apply(lambda x: ' '.join([w for w in x.split() if len(w)>3]))\n",
        "# 전체 단어에 대한 소문자 변환\n",
        "news_df['clean_doc'] = news_df['clean_doc'].apply(lambda x: x.lower())"
      ],
      "metadata": {
        "id": "Bkr0G3iaLm_i"
      },
      "execution_count": null,
      "outputs": []
    },
    {
      "cell_type": "code",
      "source": [
        "news_df['clean_doc'][1]"
      ],
      "metadata": {
        "colab": {
          "base_uri": "https://localhost:8080/",
          "height": 54
        },
        "id": "PNVXr0HWLn8R",
        "outputId": "208b2933-a841-4a44-96d0-012e65d21ff7"
      },
      "execution_count": null,
      "outputs": [
        {
          "output_type": "execute_result",
          "data": {
            "text/plain": [
              "\"yeah, expect people read faq, etc. actually accept hard atheism? need little leap faith, jimmy. your logic runs steam! jim, sorry can't pity you, jim. sorry that have these feelings denial about faith need well, just pretend that will happily ever after anyway. maybe start newsgroup, alt.atheist.hard, won't bummin' much? bye-bye, jim. don't forget your flintstone's chewables! bake timmons,\""
            ],
            "application/vnd.google.colaboratory.intrinsic+json": {
              "type": "string"
            }
          },
          "metadata": {},
          "execution_count": 18
        }
      ]
    },
    {
      "cell_type": "code",
      "source": [
        "stop_words = stopwords.words('english')\n",
        "tokenized_doc = news_df['clean_doc'].apply(lambda x: x.split())\n",
        "tokenized_doc = tokenized_doc.apply(lambda x: [item for item in x if item not in stop_words])"
      ],
      "metadata": {
        "id": "glIsLUCmLpeR"
      },
      "execution_count": null,
      "outputs": []
    },
    {
      "cell_type": "code",
      "source": [
        "detokenized_doc = []\n",
        "for i in range(len(news_df)):\n",
        "    t = ' '.join(tokenized_doc[i])\n",
        "    detokenized_doc.append(t)\n",
        "\n",
        "news_df['clean_doc'] = detokenized_doc"
      ],
      "metadata": {
        "id": "JloPHSURL1ZH"
      },
      "execution_count": null,
      "outputs": []
    },
    {
      "cell_type": "code",
      "source": [
        "news_df['clean_doc'][1]"
      ],
      "metadata": {
        "colab": {
          "base_uri": "https://localhost:8080/",
          "height": 54
        },
        "id": "752indjwLtJa",
        "outputId": "e1159727-5734-48ba-f40a-16fd0f27a308"
      },
      "execution_count": null,
      "outputs": [
        {
          "output_type": "execute_result",
          "data": {
            "text/plain": [
              "\"yeah, expect people read faq, etc. actually accept hard atheism? need little leap faith, jimmy. logic runs steam! jim, sorry can't pity you, jim. sorry feelings denial faith need well, pretend happily ever anyway. maybe start newsgroup, alt.atheist.hard, bummin' much? bye-bye, jim. forget flintstone's chewables! bake timmons,\""
            ],
            "application/vnd.google.colaboratory.intrinsic+json": {
              "type": "string"
            }
          },
          "metadata": {},
          "execution_count": 21
        }
      ]
    },
    {
      "cell_type": "code",
      "source": [
        "vectorizer = TfidfVectorizer(stop_words='english', max_features= 1000, # 상위 1,000개의 단어를 보존\n",
        "max_df = 0.5, smooth_idf=True)\n",
        "\n",
        "X = vectorizer.fit_transform(news_df['clean_doc'])\n",
        "\n",
        "print('TF-IDF 행렬의 크기 :',X.shape)"
      ],
      "metadata": {
        "colab": {
          "base_uri": "https://localhost:8080/"
        },
        "id": "BUWw1O0uL4Fh",
        "outputId": "8db869d1-67ba-4032-9e5d-2f3d40115996"
      },
      "execution_count": null,
      "outputs": [
        {
          "output_type": "stream",
          "name": "stdout",
          "text": [
            "TF-IDF 행렬의 크기 : (11314, 1000)\n"
          ]
        }
      ]
    },
    {
      "cell_type": "code",
      "source": [
        "svd_model = TruncatedSVD(n_components=20, algorithm='randomized', n_iter=100, random_state=122)\n",
        "svd_model.fit(X)\n",
        "len(svd_model.components_)"
      ],
      "metadata": {
        "colab": {
          "base_uri": "https://localhost:8080/"
        },
        "id": "2xnE4XWxL-G6",
        "outputId": "419f70b9-e2cd-48f0-b2aa-20d7cc61a236"
      },
      "execution_count": null,
      "outputs": [
        {
          "output_type": "execute_result",
          "data": {
            "text/plain": [
              "20"
            ]
          },
          "metadata": {},
          "execution_count": 23
        }
      ]
    },
    {
      "cell_type": "code",
      "source": [
        "np.shape(svd_model.components_)"
      ],
      "metadata": {
        "colab": {
          "base_uri": "https://localhost:8080/"
        },
        "id": "p0jNH4c8MHL_",
        "outputId": "e1152e30-a27f-4ff2-bde1-ad72e42223d8"
      },
      "execution_count": null,
      "outputs": [
        {
          "output_type": "execute_result",
          "data": {
            "text/plain": [
              "(20, 1000)"
            ]
          },
          "metadata": {},
          "execution_count": 24
        }
      ]
    },
    {
      "cell_type": "code",
      "source": [
        "# 단어 집합 추출\n",
        "terms = vectorizer.get_feature_names_out()\n",
        "\n",
        "# 각 토픽별 상위 n개의 단어 출력 함수\n",
        "def get_topics(components, feature_names, n=5):\n",
        "    for idx, topic in enumerate(components):\n",
        "        print(\"Topic %d:\" % (idx+1),\n",
        "              [(feature_names[i], topic[i].round(5))\n",
        "               for i in topic.argsort()[:-n - 1:-1]])\n",
        "\n",
        "# 실행\n",
        "get_topics(svd_model.components_, terms)\n"
      ],
      "metadata": {
        "colab": {
          "base_uri": "https://localhost:8080/"
        },
        "id": "HHUhPj4TMIVK",
        "outputId": "2aa3e295-cae1-43b8-bfc6-db9cdfe1dc55"
      },
      "execution_count": null,
      "outputs": [
        {
          "output_type": "stream",
          "name": "stdout",
          "text": [
            "Topic 1: [('like', np.float64(0.21065)), ('know', np.float64(0.19865)), ('people', np.float64(0.19337)), ('think', np.float64(0.17695)), ('good', np.float64(0.15024))]\n",
            "Topic 2: [('thanks', np.float64(0.31432)), ('windows', np.float64(0.27918)), ('card', np.float64(0.17317)), ('drive', np.float64(0.16121)), ('mail', np.float64(0.14636))]\n",
            "Topic 3: [('game', np.float64(0.36793)), ('team', np.float64(0.31524)), ('year', np.float64(0.28778)), ('games', np.float64(0.23177)), ('season', np.float64(0.17117))]\n",
            "Topic 4: [('edu', np.float64(0.49691)), ('thanks', np.float64(0.25806)), ('mail', np.float64(0.17646)), ('com', np.float64(0.11305)), ('email', np.float64(0.11137))]\n",
            "Topic 5: [('edu', np.float64(0.51015)), ('drive', np.float64(0.24504)), ('com', np.float64(0.1097)), ('sale', np.float64(0.10501)), ('soon', np.float64(0.09464))]\n",
            "Topic 6: [('drive', np.float64(0.40158)), ('thanks', np.float64(0.34907)), ('know', np.float64(0.28252)), ('scsi', np.float64(0.13753)), ('mail', np.float64(0.11316))]\n",
            "Topic 7: [('edu', np.float64(0.31635)), ('jesus', np.float64(0.25546)), ('windows', np.float64(0.24535)), ('god', np.float64(0.22169)), ('think', np.float64(0.21324))]\n",
            "Topic 8: [('like', np.float64(0.65894)), ('edu', np.float64(0.323)), ('know', np.float64(0.1302)), ('think', np.float64(0.12868)), ('bike', np.float64(0.11997))]\n",
            "Topic 9: [('card', np.float64(0.3647)), ('sale', np.float64(0.17649)), ('00', np.float64(0.17369)), ('video', np.float64(0.17295)), ('like', np.float64(0.15977))]\n",
            "Topic 10: [('card', np.float64(0.44814)), ('people', np.float64(0.31936)), ('know', np.float64(0.29223)), ('video', np.float64(0.1992)), ('edu', np.float64(0.18957))]\n",
            "Topic 11: [('like', np.float64(0.47503)), ('people', np.float64(0.37018)), ('windows', np.float64(0.15887)), ('game', np.float64(0.14233)), ('drive', np.float64(0.12806))]\n",
            "Topic 12: [('think', np.float64(0.74328)), ('thanks', np.float64(0.18659)), ('good', np.float64(0.12783)), ('mail', np.float64(0.10839)), ('people', np.float64(0.09017))]\n",
            "Topic 13: [('good', np.float64(0.36628)), ('people', np.float64(0.22333)), ('bike', np.float64(0.2015)), ('thanks', np.float64(0.19312)), ('problem', np.float64(0.16089))]\n",
            "Topic 14: [('know', np.float64(0.33301)), ('good', np.float64(0.26932)), ('people', np.float64(0.23786)), ('windows', np.float64(0.21763)), ('file', np.float64(0.20557))]\n",
            "Topic 15: [('good', np.float64(0.36047)), ('chip', np.float64(0.24109)), ('people', np.float64(0.17958)), ('clipper', np.float64(0.15221)), ('encryption', np.float64(0.14846))]\n",
            "Topic 16: [('com', np.float64(0.76418)), ('right', np.float64(0.16945)), ('window', np.float64(0.11222)), ('bike', np.float64(0.10315)), ('dave', np.float64(0.08653))]\n",
            "Topic 17: [('space', np.float64(0.30138)), ('good', np.float64(0.2706)), ('card', np.float64(0.26919)), ('com', np.float64(0.21128)), ('time', np.float64(0.13395))]\n",
            "Topic 18: [('people', np.float64(0.47903)), ('problem', np.float64(0.21149)), ('space', np.float64(0.15028)), ('window', np.float64(0.13949)), ('time', np.float64(0.13178))]\n",
            "Topic 19: [('time', np.float64(0.34425)), ('bike', np.float64(0.30301)), ('right', np.float64(0.23301)), ('file', np.float64(0.21417)), ('need', np.float64(0.15965))]\n",
            "Topic 20: [('time', np.float64(0.37513)), ('file', np.float64(0.28404)), ('problem', np.float64(0.2004)), ('need', np.float64(0.20019)), ('game', np.float64(0.16126))]\n"
          ]
        }
      ]
    }
  ]
}